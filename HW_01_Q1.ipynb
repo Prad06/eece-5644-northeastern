{
 "cells": [
  {
   "cell_type": "markdown",
   "metadata": {},
   "source": [
    "<h1>Assignment 1 - Question 1</h1>"
   ]
  },
  {
   "cell_type": "code",
   "execution_count": 277,
   "metadata": {},
   "outputs": [],
   "source": [
    "import matplotlib.pyplot as plt\n",
    "import numpy as np\n",
    "import pandas as pd\n",
    "from scipy.stats import multivariate_normal\n",
    "from sklearn.metrics import roc_curve\n",
    "from scipy import linalg"
   ]
  },
  {
   "cell_type": "code",
   "execution_count": 278,
   "metadata": {},
   "outputs": [],
   "source": [
    "np.random.seed(1)"
   ]
  },
  {
   "cell_type": "markdown",
   "metadata": {},
   "source": [
    "<img src=\"/Users/pradnyeshchoudhari/EECE 5644 - LOCAL/Assignments/Assignment 01/Images/1.png\">\n"
   ]
  },
  {
   "cell_type": "code",
   "execution_count": 279,
   "metadata": {},
   "outputs": [],
   "source": [
    "mean0 = np.array([-1, -1, -1, -1])\n",
    "covariance0 = np.array(\n",
    "    [[2, -0.5, 0.3, 0], [-0.5, 1, -0.5, 0], [0.3, -0.5, 1, 0], [0, 0, 0, 2]]\n",
    ")\n",
    "p_class_0 = 0.35\n",
    "\n",
    "mean1 = np.array([1, 1, 1, 1])\n",
    "covariance1 = np.array(\n",
    "    [[1, 0.3, -0.2, 0], [0.3, 2, 0.3, 0], [-0.2, 0.3, 1, 0], [0, 0, 0, 3]]\n",
    ")\n",
    "p_class_1 = 0.65\n",
    "\n",
    "number_of_samples = 10000\n",
    "num_samples_class0 = int(p_class_0 * number_of_samples)\n",
    "num_samples_class1 = int(p_class_1 * number_of_samples)\n",
    "\n",
    "\n",
    "samples_class0 = np.random.multivariate_normal(mean0, covariance0, num_samples_class0)\n",
    "samples_class1 = np.random.multivariate_normal(mean1, covariance1, num_samples_class1)\n",
    "\n",
    "labels_class0 = np.zeros(num_samples_class0)\n",
    "labels_class1 = np.ones(num_samples_class1)\n",
    "\n",
    "samples = np.vstack((samples_class0, samples_class1))\n",
    "labels = np.hstack((labels_class0, labels_class1))"
   ]
  },
  {
   "cell_type": "code",
   "execution_count": 280,
   "metadata": {},
   "outputs": [],
   "source": [
    "df = pd.DataFrame(samples, columns=[\"x1\", \"x2\", \"x3\", \"x4\"])\n",
    "df[\"Label\"] = labels\n",
    "\n",
    "df.to_csv(\"data_created_for_hw1_q1_10000_samples.csv\", index=False)"
   ]
  },
  {
   "cell_type": "code",
   "execution_count": 281,
   "metadata": {},
   "outputs": [
    {
     "data": {
      "text/html": [
       "<div>\n",
       "<style scoped>\n",
       "    .dataframe tbody tr th:only-of-type {\n",
       "        vertical-align: middle;\n",
       "    }\n",
       "\n",
       "    .dataframe tbody tr th {\n",
       "        vertical-align: top;\n",
       "    }\n",
       "\n",
       "    .dataframe thead th {\n",
       "        text-align: right;\n",
       "    }\n",
       "</style>\n",
       "<table border=\"1\" class=\"dataframe\">\n",
       "  <thead>\n",
       "    <tr style=\"text-align: right;\">\n",
       "      <th></th>\n",
       "      <th>x1</th>\n",
       "      <th>x2</th>\n",
       "      <th>x3</th>\n",
       "      <th>x4</th>\n",
       "      <th>Label</th>\n",
       "    </tr>\n",
       "  </thead>\n",
       "  <tbody>\n",
       "    <tr>\n",
       "      <th>0</th>\n",
       "      <td>-2.885759</td>\n",
       "      <td>-0.199077</td>\n",
       "      <td>-2.716423</td>\n",
       "      <td>-1.865154</td>\n",
       "      <td>0.0</td>\n",
       "    </tr>\n",
       "    <tr>\n",
       "      <th>1</th>\n",
       "      <td>-3.172325</td>\n",
       "      <td>-1.774531</td>\n",
       "      <td>-0.538224</td>\n",
       "      <td>-4.254867</td>\n",
       "      <td>0.0</td>\n",
       "    </tr>\n",
       "    <tr>\n",
       "      <th>2</th>\n",
       "      <td>-2.410798</td>\n",
       "      <td>-2.655004</td>\n",
       "      <td>-1.048926</td>\n",
       "      <td>-1.352663</td>\n",
       "      <td>0.0</td>\n",
       "    </tr>\n",
       "    <tr>\n",
       "      <th>3</th>\n",
       "      <td>-1.317274</td>\n",
       "      <td>-2.400534</td>\n",
       "      <td>-0.514371</td>\n",
       "      <td>-1.543135</td>\n",
       "      <td>0.0</td>\n",
       "    </tr>\n",
       "    <tr>\n",
       "      <th>4</th>\n",
       "      <td>-0.753927</td>\n",
       "      <td>-0.834060</td>\n",
       "      <td>-0.614293</td>\n",
       "      <td>-2.241479</td>\n",
       "      <td>0.0</td>\n",
       "    </tr>\n",
       "    <tr>\n",
       "      <th>...</th>\n",
       "      <td>...</td>\n",
       "      <td>...</td>\n",
       "      <td>...</td>\n",
       "      <td>...</td>\n",
       "      <td>...</td>\n",
       "    </tr>\n",
       "    <tr>\n",
       "      <th>9995</th>\n",
       "      <td>1.981959</td>\n",
       "      <td>1.710207</td>\n",
       "      <td>2.784061</td>\n",
       "      <td>-0.120244</td>\n",
       "      <td>1.0</td>\n",
       "    </tr>\n",
       "    <tr>\n",
       "      <th>9996</th>\n",
       "      <td>2.029219</td>\n",
       "      <td>0.746992</td>\n",
       "      <td>0.546795</td>\n",
       "      <td>1.572723</td>\n",
       "      <td>1.0</td>\n",
       "    </tr>\n",
       "    <tr>\n",
       "      <th>9997</th>\n",
       "      <td>1.648817</td>\n",
       "      <td>2.504954</td>\n",
       "      <td>1.105592</td>\n",
       "      <td>0.246232</td>\n",
       "      <td>1.0</td>\n",
       "    </tr>\n",
       "    <tr>\n",
       "      <th>9998</th>\n",
       "      <td>0.148452</td>\n",
       "      <td>1.171763</td>\n",
       "      <td>2.323189</td>\n",
       "      <td>2.404018</td>\n",
       "      <td>1.0</td>\n",
       "    </tr>\n",
       "    <tr>\n",
       "      <th>9999</th>\n",
       "      <td>1.152027</td>\n",
       "      <td>-0.724877</td>\n",
       "      <td>0.124420</td>\n",
       "      <td>3.530430</td>\n",
       "      <td>1.0</td>\n",
       "    </tr>\n",
       "  </tbody>\n",
       "</table>\n",
       "<p>10000 rows × 5 columns</p>\n",
       "</div>"
      ],
      "text/plain": [
       "            x1        x2        x3        x4  Label\n",
       "0    -2.885759 -0.199077 -2.716423 -1.865154    0.0\n",
       "1    -3.172325 -1.774531 -0.538224 -4.254867    0.0\n",
       "2    -2.410798 -2.655004 -1.048926 -1.352663    0.0\n",
       "3    -1.317274 -2.400534 -0.514371 -1.543135    0.0\n",
       "4    -0.753927 -0.834060 -0.614293 -2.241479    0.0\n",
       "...        ...       ...       ...       ...    ...\n",
       "9995  1.981959  1.710207  2.784061 -0.120244    1.0\n",
       "9996  2.029219  0.746992  0.546795  1.572723    1.0\n",
       "9997  1.648817  2.504954  1.105592  0.246232    1.0\n",
       "9998  0.148452  1.171763  2.323189  2.404018    1.0\n",
       "9999  1.152027 -0.724877  0.124420  3.530430    1.0\n",
       "\n",
       "[10000 rows x 5 columns]"
      ]
     },
     "execution_count": 281,
     "metadata": {},
     "output_type": "execute_result"
    }
   ],
   "source": [
    "df"
   ]
  },
  {
   "cell_type": "markdown",
   "metadata": {},
   "source": [
    "<img src=\"/Users/pradnyeshchoudhari/EECE 5644 - LOCAL/Assignments/Assignment 01/Images/1A.png\">\n"
   ]
  },
  {
   "cell_type": "markdown",
   "metadata": {},
   "source": [
    "<h3> Part A - 1 </h3>\n",
    "\n",
    "Reference from 2.2.1 Pattern Classification by Duda, Hart and Stork.\n",
    "\n",
    "$ Considering \\space \\lambda\\_{ij} \\space loss $\n",
    "\n",
    "$$ R(L_0|X) = \\lambda_{00} P(L_0|X) + \\lambda_{01} P(L_1|X) $$\n",
    "$$ R(L_1|X) = \\lambda_{10} P(L_0|X) + \\lambda_{11} P(L_1|X) $$\n",
    "\n",
    "The fundamental rule is to decide $L_0$ if $R(\\alpha_0|X) < R(\\alpha_1|X)$, in terms of the posterior probabilities, we decide $L_0$ if\n",
    "\n",
    "$$ (\\lambda_{10} - \\lambda_{00}) P(L*0|X) > (\\lambda_{01} - \\lambda_{11}) P(L_1|X) $$\n",
    "\n",
    "Using Bayes Theorem we get, in general\n",
    "\n",
    "$$ \\frac{P(X|L_0)}{P(X|L_1)} ? \\frac{(\\lambda_{01} - \\lambda_{11}).P(L_0)}{(\\lambda_{10} - \\lambda_{00}).P(L_1)} $$\n",
    "\n",
    "Given $P(L_0) = 0.35 \\space \\& \\space P(L_1) = 0.65 $\n",
    "\n",
    "$$ \\frac{P(X|L_1)}{P(X|L_0)} ? \\frac{(\\lambda_{10} - \\lambda_{00}).0.35} {(\\lambda_{01} - \\lambda_{11}).0.65} $$\n",
    "$$ \\frac{P(X|L_1)}{P(X|L_0)}.{1.8571} ? \\frac{(\\lambda_{10} - \\lambda_{00})} {(\\lambda_{01} - \\lambda_{11})} $$\n"
   ]
  },
  {
   "cell_type": "markdown",
   "metadata": {},
   "source": [
    "<h3> Part A - 2 </h3> "
   ]
  },
  {
   "cell_type": "code",
   "execution_count": 282,
   "metadata": {},
   "outputs": [],
   "source": [
    "px_given_l0 = multivariate_normal.pdf(samples, mean=mean0, cov=covariance0)\n",
    "px_given_l1 = multivariate_normal.pdf(samples, mean=mean1, cov=covariance1)\n",
    "likelihood_ratio = px_given_l1 / px_given_l0"
   ]
  },
  {
   "cell_type": "code",
   "execution_count": 283,
   "metadata": {},
   "outputs": [],
   "source": [
    "fpr_list_likelihood, tpr_list_likelihood, gammas = roc_curve(labels, likelihood_ratio)"
   ]
  },
  {
   "cell_type": "code",
   "execution_count": 284,
   "metadata": {},
   "outputs": [
    {
     "data": {
      "image/png": "[encoded data removed]",
      "text/plain": [
       "<Figure size 640x480 with 1 Axes>"
      ]
     },
     "metadata": {},
     "output_type": "display_data"
    }
   ],
   "source": [
    "plt.figure()\n",
    "plt.plot(fpr_list_likelihood, tpr_list_likelihood, label=\"ROC Curve\")\n",
    "plt.xlabel(\"False Positive Rate\")\n",
    "plt.ylabel(\"True Positive Rate\")\n",
    "plt.title(\"ROC Curve\")\n",
    "plt.legend()\n",
    "plt.grid(True)\n",
    "plt.show()"
   ]
  },
  {
   "cell_type": "markdown",
   "metadata": {},
   "source": [
    "<h3> Part A - 3 </h3>\n"
   ]
  },
  {
   "cell_type": "code",
   "execution_count": 285,
   "metadata": {},
   "outputs": [],
   "source": [
    "perror_likelihood = (\n",
    "    fpr_list_likelihood * p_class_0 + (1 - tpr_list_likelihood) * p_class_1\n",
    ")"
   ]
  },
  {
   "cell_type": "code",
   "execution_count": 286,
   "metadata": {},
   "outputs": [],
   "source": [
    "gamma_theoretical = p_class_0 / p_class_1\n",
    "\n",
    "decisions_theoretical = (likelihood_ratio >= gamma_theoretical).astype(int)\n",
    "\n",
    "tp = np.sum((decisions_theoretical == 1) & (labels == 1))\n",
    "fp = np.sum((decisions_theoretical == 1) & (labels == 0))\n",
    "fn = np.sum((decisions_theoretical == 0) & (labels == 1))\n",
    "tn = np.sum((decisions_theoretical == 0) & (labels == 0))\n",
    "\n",
    "tpr_theoretical = tp / (tp + fn) if (tp + fn) > 0 else 0\n",
    "fpr_theoretical = fp / (fp + tn) if (fp + tn) > 0 else 0\n",
    "\n",
    "p_error_theoretical = fpr_theoretical * p_class_0 + (1 - tpr_theoretical) * p_class_1"
   ]
  },
  {
   "cell_type": "code",
   "execution_count": 287,
   "metadata": {},
   "outputs": [],
   "source": [
    "df_taus_tpr_fpr_likelihood = pd.DataFrame(gammas, columns=[\"Gamma\"])\n",
    "df_taus_tpr_fpr_likelihood[\"fpr\"] = fpr_list_likelihood\n",
    "df_taus_tpr_fpr_likelihood[\"tpr\"] = tpr_list_likelihood\n",
    "df_taus_tpr_fpr_likelihood[\"perror\"] = perror_likelihood\n",
    "df_taus_tpr_fpr_likelihood[\"perror - therotical\"] = p_error_theoretical"
   ]
  },
  {
   "cell_type": "code",
   "execution_count": 288,
   "metadata": {},
   "outputs": [
    {
     "data": {
      "text/html": [
       "<div>\n",
       "<style scoped>\n",
       "    .dataframe tbody tr th:only-of-type {\n",
       "        vertical-align: middle;\n",
       "    }\n",
       "\n",
       "    .dataframe tbody tr th {\n",
       "        vertical-align: top;\n",
       "    }\n",
       "\n",
       "    .dataframe thead th {\n",
       "        text-align: right;\n",
       "    }\n",
       "</style>\n",
       "<table border=\"1\" class=\"dataframe\">\n",
       "  <thead>\n",
       "    <tr style=\"text-align: right;\">\n",
       "      <th></th>\n",
       "      <th>index</th>\n",
       "      <th>Gamma</th>\n",
       "      <th>fpr</th>\n",
       "      <th>tpr</th>\n",
       "      <th>perror</th>\n",
       "      <th>perror - therotical</th>\n",
       "    </tr>\n",
       "  </thead>\n",
       "  <tbody>\n",
       "    <tr>\n",
       "      <th>0</th>\n",
       "      <td>234</td>\n",
       "      <td>0.484447</td>\n",
       "      <td>0.047429</td>\n",
       "      <td>0.968154</td>\n",
       "      <td>0.0373</td>\n",
       "      <td>0.0376</td>\n",
       "    </tr>\n",
       "  </tbody>\n",
       "</table>\n",
       "</div>"
      ],
      "text/plain": [
       "   index     Gamma       fpr       tpr  perror  perror - therotical\n",
       "0    234  0.484447  0.047429  0.968154  0.0373               0.0376"
      ]
     },
     "execution_count": 288,
     "metadata": {},
     "output_type": "execute_result"
    }
   ],
   "source": [
    "df_likelihood_result = df_taus_tpr_fpr_likelihood[\n",
    "    df_taus_tpr_fpr_likelihood[\"perror\"] == df_taus_tpr_fpr_likelihood[\"perror\"].min()\n",
    "].reset_index()\n",
    "df_likelihood_result"
   ]
  },
  {
   "cell_type": "code",
   "execution_count": 289,
   "metadata": {},
   "outputs": [],
   "source": [
    "gamma_min_likelihood = df_likelihood_result.loc[0][\"Gamma\"]\n",
    "fpr_min_likelihood = df_likelihood_result.loc[0][\"fpr\"]\n",
    "tpr_min_likelihood = df_likelihood_result.loc[0][\"tpr\"]\n",
    "perror_min_likelihood = df_likelihood_result.loc[0][\"perror\"]"
   ]
  },
  {
   "cell_type": "code",
   "execution_count": 290,
   "metadata": {},
   "outputs": [
    {
     "data": {
      "image/png": "[encoded data removed]",
      "text/plain": [
       "<Figure size 640x480 with 1 Axes>"
      ]
     },
     "metadata": {},
     "output_type": "display_data"
    }
   ],
   "source": [
    "plt.figure()\n",
    "plt.plot(fpr_list_likelihood, tpr_list_likelihood, label=\"ROC Curve\")\n",
    "plt.scatter(\n",
    "    fpr_min_likelihood,\n",
    "    tpr_min_likelihood,\n",
    "    color=\"Blue\",\n",
    "    label=f\"Min P(error) (Experimentally) = {perror_min_likelihood:.4f}\",\n",
    ")\n",
    "plt.scatter(\n",
    "    fpr_theoretical,\n",
    "    tpr_theoretical,\n",
    "    color=\"red\",\n",
    "    label=f\"P(error) (Theorotically) = {p_error_theoretical:.4f}\",\n",
    "    alpha=0.6\n",
    ")\n",
    "plt.xlabel(\"False Positive Rate\")\n",
    "plt.ylabel(\"True Positive Rate\")\n",
    "plt.title(\"ROC Curve\")\n",
    "plt.legend()\n",
    "plt.grid(True)\n",
    "plt.show()"
   ]
  },
  {
   "cell_type": "code",
   "execution_count": 291,
   "metadata": {},
   "outputs": [
    {
     "name": "stdout",
     "output_type": "stream",
     "text": [
      "Therotically Derived Gamma: 0.5385\n",
      "Experimentally Derived Gamma: 0.4844\n",
      "Delta: 0.0540\n",
      "Therotically Derived PError: 0.0376\n",
      "Experimentally Derived PError: 0.0373\n",
      "Delta: 0.0003\n"
     ]
    }
   ],
   "source": [
    "print(f\"Therotically Derived Gamma: {gamma_theoretical:.4f}\")\n",
    "print(f\"Experimentally Derived Gamma: {gamma_min_likelihood:.4f}\")\n",
    "print(f\"Delta: {abs(gamma_min_likelihood - gamma_theoretical):.4f}\")\n",
    "\n",
    "print(f\"Therotically Derived PError: {p_error_theoretical:.4f}\")\n",
    "print(f\"Experimentally Derived PError: {perror_min_likelihood:.4f}\")\n",
    "print(f\"Delta: {abs(perror_min_likelihood - p_error_theoretical):.4f}\")\n"
   ]
  },
  {
   "cell_type": "markdown",
   "metadata": {},
   "source": [
    "<img src=\"/Users/pradnyeshchoudhari/EECE 5644 - LOCAL/Assignments/Assignment 01/Images/1B.png\">\n"
   ]
  },
  {
   "cell_type": "code",
   "execution_count": 292,
   "metadata": {},
   "outputs": [],
   "source": [
    "mean0 = np.array([-1, -1, -1, -1])\n",
    "covariance0_naive = np.array([[2, 0, 0, 0], [0, 1, 0, 0], [0, 0, 1, 0], [0, 0, 0, 2]])\n",
    "\n",
    "mean1 = np.array([1, 1, 1, 1])\n",
    "covariance1_naive = np.array([[1, 0, 0, 0], [0, 2, 0, 0], [0, 0, 1, 0], [0, 0, 0, 3]])"
   ]
  },
  {
   "cell_type": "code",
   "execution_count": 293,
   "metadata": {},
   "outputs": [],
   "source": [
    "px_given_l0_naive = multivariate_normal.pdf(samples, mean=mean0, cov=covariance0_naive)\n",
    "px_given_l1_naive = multivariate_normal.pdf(samples, mean=mean1, cov=covariance1_naive)\n",
    "likelihood_ratio_naive = px_given_l1_naive / px_given_l0_naive"
   ]
  },
  {
   "cell_type": "code",
   "execution_count": 294,
   "metadata": {},
   "outputs": [],
   "source": [
    "fpr_list_naive, tpr_list_naive, gammas = roc_curve(labels, likelihood_ratio_naive)"
   ]
  },
  {
   "cell_type": "code",
   "execution_count": 295,
   "metadata": {},
   "outputs": [],
   "source": [
    "perror_list_naive = fpr_list_naive * p_class_0 + (1 - tpr_list_naive) * p_class_1"
   ]
  },
  {
   "cell_type": "code",
   "execution_count": 296,
   "metadata": {},
   "outputs": [],
   "source": [
    "df_likelihood_naive = pd.DataFrame(gammas, columns=[\"Gamma\"])\n",
    "df_likelihood_naive[\"fpr\"] = fpr_list_naive\n",
    "df_likelihood_naive[\"tpr\"] = tpr_list_naive\n",
    "df_likelihood_naive[\"perror\"] = perror_list_naive\n",
    "df_likelihood_naive[\"perror - therotical\"] = p_error_theoretical"
   ]
  },
  {
   "cell_type": "code",
   "execution_count": 297,
   "metadata": {},
   "outputs": [
    {
     "data": {
      "text/html": [
       "<div>\n",
       "<style scoped>\n",
       "    .dataframe tbody tr th:only-of-type {\n",
       "        vertical-align: middle;\n",
       "    }\n",
       "\n",
       "    .dataframe tbody tr th {\n",
       "        vertical-align: top;\n",
       "    }\n",
       "\n",
       "    .dataframe thead th {\n",
       "        text-align: right;\n",
       "    }\n",
       "</style>\n",
       "<table border=\"1\" class=\"dataframe\">\n",
       "  <thead>\n",
       "    <tr style=\"text-align: right;\">\n",
       "      <th></th>\n",
       "      <th>index</th>\n",
       "      <th>Gamma</th>\n",
       "      <th>fpr</th>\n",
       "      <th>tpr</th>\n",
       "      <th>perror</th>\n",
       "      <th>perror - therotical</th>\n",
       "    </tr>\n",
       "  </thead>\n",
       "  <tbody>\n",
       "    <tr>\n",
       "      <th>0</th>\n",
       "      <td>286</td>\n",
       "      <td>0.504565</td>\n",
       "      <td>0.052857</td>\n",
       "      <td>0.960769</td>\n",
       "      <td>0.044</td>\n",
       "      <td>0.0376</td>\n",
       "    </tr>\n",
       "  </tbody>\n",
       "</table>\n",
       "</div>"
      ],
      "text/plain": [
       "   index     Gamma       fpr       tpr  perror  perror - therotical\n",
       "0    286  0.504565  0.052857  0.960769   0.044               0.0376"
      ]
     },
     "execution_count": 297,
     "metadata": {},
     "output_type": "execute_result"
    }
   ],
   "source": [
    "df_likelihood_ratio_naive_result = df_likelihood_naive[\n",
    "    df_likelihood_naive[\"perror\"] == df_likelihood_naive[\"perror\"].min()\n",
    "].reset_index()\n",
    "df_likelihood_ratio_naive_result"
   ]
  },
  {
   "cell_type": "code",
   "execution_count": 298,
   "metadata": {},
   "outputs": [],
   "source": [
    "gamma_min_likelihood_naive = df_likelihood_ratio_naive_result.loc[0][\"Gamma\"]\n",
    "fpr_min_likelihood_naive = df_likelihood_ratio_naive_result.loc[0][\"fpr\"]\n",
    "tpr_min_likelihood_naive = df_likelihood_ratio_naive_result.loc[0][\"tpr\"]\n",
    "perror_min_likelihood_naive = df_likelihood_ratio_naive_result.loc[0][\"perror\"]"
   ]
  },
  {
   "cell_type": "code",
   "execution_count": 299,
   "metadata": {},
   "outputs": [
    {
     "data": {
      "image/png": "[encoded data removed]",
      "text/plain": [
       "<Figure size 640x480 with 1 Axes>"
      ]
     },
     "metadata": {},
     "output_type": "display_data"
    }
   ],
   "source": [
    "plt.figure()\n",
    "plt.plot(fpr_list_naive, tpr_list_naive, label=\"ROC Curve\")\n",
    "plt.scatter(\n",
    "    [fpr_min_likelihood_naive],\n",
    "    [tpr_min_likelihood_naive],\n",
    "    color=\"red\",\n",
    "    label=f\"Min P(error) (Experimentally) = {perror_min_likelihood_naive:.4f}\",\n",
    ")\n",
    "plt.scatter(\n",
    "    fpr_theoretical,\n",
    "    tpr_theoretical,\n",
    "    color=\"blue\",\n",
    "    label=f\"P(error) (Theorotically) = {p_error_theoretical:.4f}\",\n",
    "    alpha=0.6\n",
    ")\n",
    "plt.plot([0, 0], [1, 1])\n",
    "plt.xlabel(\"False Positive Rate\")\n",
    "plt.ylabel(\"True Positive Rate\")\n",
    "plt.title(\"ROC Curve - Naive Bias\")\n",
    "plt.legend()\n",
    "plt.grid(True)\n",
    "plt.show()"
   ]
  },
  {
   "cell_type": "code",
   "execution_count": 300,
   "metadata": {},
   "outputs": [
    {
     "name": "stdout",
     "output_type": "stream",
     "text": [
      "Therotically Derived Gamma: 0.5385\n",
      "Experimentally Derived Gamma: 0.5046\n",
      "Delta: 0.0339\n",
      "Therotically Derived PError: 0.0376\n",
      "Experimentally Derived PError: 0.0440\n",
      "Delta: 0.0067\n"
     ]
    }
   ],
   "source": [
    "gamma_therotically_cal = p_class_0 / p_class_1\n",
    "print(f\"Therotically Derived Gamma: {gamma_therotically_cal:.4f}\")\n",
    "print(f\"Experimentally Derived Gamma: {gamma_min_likelihood_naive:.4f}\")\n",
    "print(f\"Delta: {abs(gamma_min_likelihood_naive - gamma_therotically_cal):.4f}\")\n",
    "\n",
    "print(f\"Therotically Derived PError: {p_error_theoretical:.4f}\")\n",
    "print(f\"Experimentally Derived PError: {perror_min_likelihood_naive:.4f}\")\n",
    "print(f\"Delta: {abs(perror_min_likelihood - perror_min_likelihood_naive):.4f}\")"
   ]
  },
  {
   "cell_type": "markdown",
   "metadata": {},
   "source": [
    "<img src=\"/Users/pradnyeshchoudhari/EECE 5644 - LOCAL/Assignments/Assignment 01/Images/1C.png\">\n"
   ]
  },
  {
   "cell_type": "code",
   "execution_count": 301,
   "metadata": {},
   "outputs": [],
   "source": [
    "def perform_lda(X, y):\n",
    "    classes = np.unique(y)\n",
    "    n_classes = len(classes)\n",
    "    n_components = n_classes - 1\n",
    "\n",
    "    mean_overall = np.mean(X, axis=0)\n",
    "\n",
    "    means = []\n",
    "    for cls in classes:\n",
    "        means.append(np.mean(X[y == cls], axis=0))\n",
    "    means = np.array(means)\n",
    "\n",
    "    Sw = np.zeros((X.shape[1], X.shape[1]))\n",
    "    for cls, mean in zip(classes, means):\n",
    "        class_scatter = np.cov(X[y == cls].T)\n",
    "        Sw += class_scatter * (np.sum(y == cls) - 1)\n",
    "\n",
    "    Sb = np.zeros((X.shape[1], X.shape[1]))\n",
    "    for cls, mean in zip(classes, means):\n",
    "        n = np.sum(y == cls)\n",
    "        mean_diff = (mean - mean_overall).reshape(-1, 1)\n",
    "        Sb += n * (mean_diff @ mean_diff.T)\n",
    "\n",
    "    evals, evecs = linalg.eigh(Sb, Sw)\n",
    "\n",
    "    indices = np.argsort(evals)[::-1]\n",
    "    evecs = evecs[:, indices]\n",
    "    evals = evals[indices]\n",
    "\n",
    "    w = evecs[:, :n_components]\n",
    "\n",
    "    y_new = X @ w\n",
    "\n",
    "    return w, y_new"
   ]
  },
  {
   "cell_type": "code",
   "execution_count": 302,
   "metadata": {},
   "outputs": [],
   "source": [
    "w, y = perform_lda(samples, labels)"
   ]
  },
  {
   "cell_type": "code",
   "execution_count": 303,
   "metadata": {},
   "outputs": [],
   "source": [
    "fpr, tpr, thresholds = roc_curve(labels, y)"
   ]
  },
  {
   "cell_type": "code",
   "execution_count": 304,
   "metadata": {},
   "outputs": [],
   "source": [
    "perror = fpr * p_class_0 + (1 - tpr) * p_class_1"
   ]
  },
  {
   "cell_type": "code",
   "execution_count": 305,
   "metadata": {},
   "outputs": [],
   "source": [
    "df_lda = pd.DataFrame(thresholds, columns=[\"Taus\"])\n",
    "df_lda[\"fpr\"] = fpr\n",
    "df_lda[\"tpr\"] = tpr\n",
    "df_lda[\"perror\"] = perror\n",
    "df_lda[\"perror - therotical\"] = p_error_theoretical"
   ]
  },
  {
   "cell_type": "code",
   "execution_count": 306,
   "metadata": {},
   "outputs": [],
   "source": [
    "df_lda_result = df_lda[df_lda[\"perror\"] == df_lda[\"perror\"].min()].reset_index()"
   ]
  },
  {
   "cell_type": "code",
   "execution_count": 307,
   "metadata": {},
   "outputs": [
    {
     "data": {
      "text/html": [
       "<div>\n",
       "<style scoped>\n",
       "    .dataframe tbody tr th:only-of-type {\n",
       "        vertical-align: middle;\n",
       "    }\n",
       "\n",
       "    .dataframe tbody tr th {\n",
       "        vertical-align: top;\n",
       "    }\n",
       "\n",
       "    .dataframe thead th {\n",
       "        text-align: right;\n",
       "    }\n",
       "</style>\n",
       "<table border=\"1\" class=\"dataframe\">\n",
       "  <thead>\n",
       "    <tr style=\"text-align: right;\">\n",
       "      <th></th>\n",
       "      <th>index</th>\n",
       "      <th>Taus</th>\n",
       "      <th>fpr</th>\n",
       "      <th>tpr</th>\n",
       "      <th>perror</th>\n",
       "      <th>perror - therotical</th>\n",
       "    </tr>\n",
       "  </thead>\n",
       "  <tbody>\n",
       "    <tr>\n",
       "      <th>0</th>\n",
       "      <td>304</td>\n",
       "      <td>-0.001791</td>\n",
       "      <td>0.053429</td>\n",
       "      <td>0.961692</td>\n",
       "      <td>0.0436</td>\n",
       "      <td>0.0376</td>\n",
       "    </tr>\n",
       "  </tbody>\n",
       "</table>\n",
       "</div>"
      ],
      "text/plain": [
       "   index      Taus       fpr       tpr  perror  perror - therotical\n",
       "0    304 -0.001791  0.053429  0.961692  0.0436               0.0376"
      ]
     },
     "execution_count": 307,
     "metadata": {},
     "output_type": "execute_result"
    }
   ],
   "source": [
    "df_lda_result"
   ]
  },
  {
   "cell_type": "code",
   "execution_count": 308,
   "metadata": {},
   "outputs": [],
   "source": [
    "tau_min_lda = df_lda_result.loc[0][\"Taus\"]\n",
    "fpr_min_lda = df_lda_result.loc[0][\"fpr\"]\n",
    "tpr_min_lda = df_lda_result.loc[0][\"tpr\"]\n",
    "perror_min_lda = df_lda_result.loc[0][\"perror\"]"
   ]
  },
  {
   "cell_type": "code",
   "execution_count": 309,
   "metadata": {},
   "outputs": [
    {
     "data": {
      "image/png": "[encoded data removed]",
      "text/plain": [
       "<Figure size 640x480 with 1 Axes>"
      ]
     },
     "metadata": {},
     "output_type": "display_data"
    }
   ],
   "source": [
    "plt.figure()\n",
    "plt.plot(fpr, tpr, label=\"ROC Curve\")\n",
    "plt.scatter(\n",
    "    [fpr_min_lda],\n",
    "    [tpr_min_lda],\n",
    "    color=\"red\",\n",
    "    label=f\"Min P(error) (Experimentally) = {perror_min_lda:.4f}\",\n",
    ")\n",
    "plt.scatter(\n",
    "    fpr_theoretical,\n",
    "    tpr_theoretical,\n",
    "    color=\"blue\",\n",
    "    label=f\"P(error) (Theorotically) = {p_error_theoretical:.4f}\",\n",
    "    alpha=0.6\n",
    ")\n",
    "plt.plot([0, 0], [1, 1])\n",
    "plt.xlabel(\"False Positive Rate\")\n",
    "plt.ylabel(\"True Positive Rate\")\n",
    "plt.title(\"ROC Curve - LDA\")\n",
    "plt.legend()\n",
    "plt.grid(True)\n",
    "plt.show()"
   ]
  },
  {
   "cell_type": "code",
   "execution_count": 310,
   "metadata": {},
   "outputs": [
    {
     "name": "stdout",
     "output_type": "stream",
     "text": [
      "Therotically Derived PError: 0.0376\n",
      "Experimentally Derived PError: 0.0436\n",
      "Delta: 0.0063\n"
     ]
    }
   ],
   "source": [
    "print(f\"Therotically Derived PError: {p_error_theoretical:.4f}\")\n",
    "print(f\"Experimentally Derived PError: {perror_min_lda:.4f}\")\n",
    "print(f\"Delta: {abs(perror_min_likelihood - perror_min_lda):.4f}\")"
   ]
  },
  {
   "cell_type": "code",
   "execution_count": 311,
   "metadata": {},
   "outputs": [
    {
     "data": {
      "text/html": [
       "<div>\n",
       "<style scoped>\n",
       "    .dataframe tbody tr th:only-of-type {\n",
       "        vertical-align: middle;\n",
       "    }\n",
       "\n",
       "    .dataframe tbody tr th {\n",
       "        vertical-align: top;\n",
       "    }\n",
       "\n",
       "    .dataframe thead th {\n",
       "        text-align: right;\n",
       "    }\n",
       "</style>\n",
       "<table border=\"1\" class=\"dataframe\">\n",
       "  <thead>\n",
       "    <tr style=\"text-align: right;\">\n",
       "      <th></th>\n",
       "      <th>index</th>\n",
       "      <th>Gamma</th>\n",
       "      <th>fpr</th>\n",
       "      <th>tpr</th>\n",
       "      <th>perror</th>\n",
       "      <th>perror - therotical</th>\n",
       "    </tr>\n",
       "  </thead>\n",
       "  <tbody>\n",
       "    <tr>\n",
       "      <th>0</th>\n",
       "      <td>234</td>\n",
       "      <td>0.484447</td>\n",
       "      <td>0.047429</td>\n",
       "      <td>0.968154</td>\n",
       "      <td>0.0373</td>\n",
       "      <td>0.0376</td>\n",
       "    </tr>\n",
       "  </tbody>\n",
       "</table>\n",
       "</div>"
      ],
      "text/plain": [
       "   index     Gamma       fpr       tpr  perror  perror - therotical\n",
       "0    234  0.484447  0.047429  0.968154  0.0373               0.0376"
      ]
     },
     "execution_count": 311,
     "metadata": {},
     "output_type": "execute_result"
    }
   ],
   "source": [
    "df_likelihood_result"
   ]
  },
  {
   "cell_type": "code",
   "execution_count": 312,
   "metadata": {},
   "outputs": [
    {
     "data": {
      "text/html": [
       "<div>\n",
       "<style scoped>\n",
       "    .dataframe tbody tr th:only-of-type {\n",
       "        vertical-align: middle;\n",
       "    }\n",
       "\n",
       "    .dataframe tbody tr th {\n",
       "        vertical-align: top;\n",
       "    }\n",
       "\n",
       "    .dataframe thead th {\n",
       "        text-align: right;\n",
       "    }\n",
       "</style>\n",
       "<table border=\"1\" class=\"dataframe\">\n",
       "  <thead>\n",
       "    <tr style=\"text-align: right;\">\n",
       "      <th></th>\n",
       "      <th>index</th>\n",
       "      <th>Gamma</th>\n",
       "      <th>fpr</th>\n",
       "      <th>tpr</th>\n",
       "      <th>perror</th>\n",
       "      <th>perror - therotical</th>\n",
       "    </tr>\n",
       "  </thead>\n",
       "  <tbody>\n",
       "    <tr>\n",
       "      <th>0</th>\n",
       "      <td>286</td>\n",
       "      <td>0.504565</td>\n",
       "      <td>0.052857</td>\n",
       "      <td>0.960769</td>\n",
       "      <td>0.044</td>\n",
       "      <td>0.0376</td>\n",
       "    </tr>\n",
       "  </tbody>\n",
       "</table>\n",
       "</div>"
      ],
      "text/plain": [
       "   index     Gamma       fpr       tpr  perror  perror - therotical\n",
       "0    286  0.504565  0.052857  0.960769   0.044               0.0376"
      ]
     },
     "execution_count": 312,
     "metadata": {},
     "output_type": "execute_result"
    }
   ],
   "source": [
    "df_likelihood_ratio_naive_result"
   ]
  },
  {
   "cell_type": "code",
   "execution_count": 313,
   "metadata": {},
   "outputs": [
    {
     "data": {
      "text/html": [
       "<div>\n",
       "<style scoped>\n",
       "    .dataframe tbody tr th:only-of-type {\n",
       "        vertical-align: middle;\n",
       "    }\n",
       "\n",
       "    .dataframe tbody tr th {\n",
       "        vertical-align: top;\n",
       "    }\n",
       "\n",
       "    .dataframe thead th {\n",
       "        text-align: right;\n",
       "    }\n",
       "</style>\n",
       "<table border=\"1\" class=\"dataframe\">\n",
       "  <thead>\n",
       "    <tr style=\"text-align: right;\">\n",
       "      <th></th>\n",
       "      <th>index</th>\n",
       "      <th>Taus</th>\n",
       "      <th>fpr</th>\n",
       "      <th>tpr</th>\n",
       "      <th>perror</th>\n",
       "      <th>perror - therotical</th>\n",
       "    </tr>\n",
       "  </thead>\n",
       "  <tbody>\n",
       "    <tr>\n",
       "      <th>0</th>\n",
       "      <td>304</td>\n",
       "      <td>-0.001791</td>\n",
       "      <td>0.053429</td>\n",
       "      <td>0.961692</td>\n",
       "      <td>0.0436</td>\n",
       "      <td>0.0376</td>\n",
       "    </tr>\n",
       "  </tbody>\n",
       "</table>\n",
       "</div>"
      ],
      "text/plain": [
       "   index      Taus       fpr       tpr  perror  perror - therotical\n",
       "0    304 -0.001791  0.053429  0.961692  0.0436               0.0376"
      ]
     },
     "execution_count": 313,
     "metadata": {},
     "output_type": "execute_result"
    }
   ],
   "source": [
    "df_lda_result"
   ]
  },
  {
   "cell_type": "markdown",
   "metadata": {},
   "source": [
    "This question we did the classification of data from a mixture of two Gaussian distributions using various methods.\n",
    "\n",
    "Likelihood Ratio Test\n",
    "\n",
    "The theoretical and experimental minimum probability of error were closely matched (0.0376 and 0.0373 respectively).\n",
    "The ROC curve showed good separation between classes, indicating effective classification.\n",
    "\n",
    "Naive Bayes Classifier\n",
    "\n",
    "This approach yielded a slightly higher error rate (0.0440) compared to the likelihood ratio test.\n",
    "The performance loss is likely due to the naive assumption of feature independence.\n",
    "\n",
    "Linear Discriminant Analysis (LDA)\n",
    "\n",
    "LDA performed slightly worse than the likelihood ratio test but better than Naive Bayes, with an error rate of 0.0436.\n",
    "\n",
    "In conclusion, the likelihood ratio test performed best for this two-class Gaussian mixture, followed closely by LDA and then Naive Bayes. The close performance of these methods suggests that the data is well-suited for Gaussian-based classification techniques."
   ]
  }
 ],
 "metadata": {
  "kernelspec": {
   "display_name": ".venv",
   "language": "python",
   "name": "python3"
  },
  "language_info": {
   "codemirror_mode": {
    "name": "ipython",
    "version": 3
   },
   "file_extension": ".py",
   "mimetype": "text/x-python",
   "name": "python",
   "nbconvert_exporter": "python",
   "pygments_lexer": "ipython3",
   "version": "3.12.5"
  }
 },
 "nbformat": 4,
 "nbformat_minor": 2
}
