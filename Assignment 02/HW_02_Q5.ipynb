{
 "cells": [
  {
   "cell_type": "markdown",
   "metadata": {},
   "source": [
    "# Assignment 2 - Question 5"
   ]
  },
  {
   "cell_type": "markdown",
   "metadata": {},
   "source": [
    "<img src=\"/Users/pradnyeshchoudhari/EECE 5644 - LOCAL/Assignments/Assignment 02/Images/5.png\">"
   ]
  },
  {
   "cell_type": "markdown",
   "metadata": {},
   "source": [
    "<img src=\"/Users/pradnyeshchoudhari/EECE 5644 - LOCAL/Assignments/Assignment 02/Images/5a.jpeg\">\n",
    "<img src=\"/Users/pradnyeshchoudhari/EECE 5644 - LOCAL/Assignments/Assignment 02/Images/5b.jpeg\">\n",
    "<img src=\"/Users/pradnyeshchoudhari/EECE 5644 - LOCAL/Assignments/Assignment 02/Images/5c.jpeg\">\n",
    "<img src=\"/Users/pradnyeshchoudhari/EECE 5644 - LOCAL/Assignments/Assignment 02/Images/5d.jpeg\">\n",
    "<img src=\"/Users/pradnyeshchoudhari/EECE 5644 - LOCAL/Assignments/Assignment 02/Images/5e.jpeg\">"
   ]
  }
 ],
 "metadata": {
  "language_info": {
   "name": "python"
  }
 },
 "nbformat": 4,
 "nbformat_minor": 2
}
