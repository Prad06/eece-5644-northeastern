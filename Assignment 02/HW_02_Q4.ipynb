{
 "cells": [
  {
   "cell_type": "markdown",
   "metadata": {},
   "source": [
    "# Assignment 2 - Question 4"
   ]
  },
  {
   "cell_type": "markdown",
   "metadata": {},
   "source": [
    "<img src=\"/Users/pradnyeshchoudhari/EECE 5644 - LOCAL/Assignments/Assignment 02/Images/4.png\">"
   ]
  },
  {
   "cell_type": "markdown",
   "metadata": {},
   "source": [
    "The loss matrix can be defined as"
   ]
  },
  {
   "cell_type": "markdown",
   "metadata": {},
   "source": [
    ". | 1 | 2 | 3 | ...  | n |\n",
    "--|---|---|---|------|---|\n",
    "1 | 0 | $\\lambda_{s}$ | $\\lambda_{s}$ | ...  | $\\lambda_{s}$ |\n",
    "2 | $\\lambda_{s}$ | 0 | $\\lambda_{s}$ | ...  | $\\lambda_{s}$ |\n",
    "3 | $\\lambda_{s}$ | $\\lambda_{s}$ | 0 | ...  | $\\lambda_{s}$ |\n",
    ". | . | . | . | .  | . |\n",
    "n | $\\lambda_{s}$ | $\\lambda_{s}$ | $\\lambda_{s}$ | ...  | 0 |\n",
    "n+1 | $\\lambda_{r}$| $\\lambda_{r}$ | $\\lambda_{r}$ | ...  |$\\lambda_{r}$ |\n",
    "\n"
   ]
  },
  {
   "cell_type": "markdown",
   "metadata": {},
   "source": [
    "<img src=\"/Users/pradnyeshchoudhari/EECE 5644 - LOCAL/Assignments/Assignment 02/Images/4a.jpeg\">"
   ]
  },
  {
   "cell_type": "markdown",
   "metadata": {},
   "source": [
    "<img src=\"/Users/pradnyeshchoudhari/EECE 5644 - LOCAL/Assignments/Assignment 02/Images/4ab.jpeg\">"
   ]
  }
 ],
 "metadata": {
  "language_info": {
   "name": "python"
  }
 },
 "nbformat": 4,
 "nbformat_minor": 2
}
